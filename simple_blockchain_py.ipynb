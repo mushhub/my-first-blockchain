{
  "nbformat": 4,
  "nbformat_minor": 0,
  "metadata": {
    "colab": {
      "provenance": [],
      "authorship_tag": "ABX9TyNUj6pKONfDqExrDyIQQBn4",
      "include_colab_link": true
    },
    "kernelspec": {
      "name": "python3",
      "display_name": "Python 3"
    },
    "language_info": {
      "name": "python"
    }
  },
  "cells": [
    {
      "cell_type": "markdown",
      "metadata": {
        "id": "view-in-github",
        "colab_type": "text"
      },
      "source": [
        "<a href=\"https://colab.research.google.com/github/mushhub/my-first-blockchain/blob/main/simple_blockchain_py.ipynb\" target=\"_parent\"><img src=\"https://colab.research.google.com/assets/colab-badge.svg\" alt=\"Open In Colab\"/></a>"
      ]
    },
    {
      "cell_type": "code",
      "execution_count": null,
      "metadata": {
        "colab": {
          "base_uri": "https://localhost:8080/"
        },
        "id": "QuD_GlhH6BS_",
        "outputId": "eea27188-328d-4cf2-c482-96007abaa492"
      },
      "outputs": [
        {
          "output_type": "stream",
          "name": "stdout",
          "text": [
            "Overwriting simple_blockchain.py\n"
          ]
        }
      ],
      "source": [
        "%%writefile simple_blockchain.py\n",
        "class Block:\n",
        "    def __init__(self, previous_hash, data):\n",
        "        self.previous_hash = previous_hash\n",
        "        self.data = data\n",
        "        self.hash = self.calculate_hash()\n",
        "\n",
        "    def calculate_hash(self):\n",
        "        return str(hash(str(self.previous_hash) + str(self.data)))\n",
        "\n",
        "class Blockchain:\n",
        "    def __init__(self):\n",
        "        self.chain = []\n",
        "        self.create_genesis_block()\n",
        "\n",
        "    def create_genesis_block(self):\n",
        "        genesis_block = Block(\"0\", \"Genesis Block\")\n",
        "        self.chain.append(genesis_block)\n",
        "\n",
        "    def add_block(self, data):\n",
        "        previous_block = self.chain[-1]\n",
        "        new_block = Block(previous_block.hash, data)\n",
        "        self.chain.append(new_block)\n",
        "\n",
        "    def display_chain(self):\n",
        "        for i, block in enumerate(self.chain):\n",
        "            print(f\"ブロック {i}:\")\n",
        "            print(f\"データ: {block.data}\")\n",
        "            print(f\"前のハッシュ: {block.previous_hash}\")\n",
        "            print(f\"現在のハッシュ: {block.hash}\\n\")"
      ]
    },
    {
      "cell_type": "code",
      "source": [
        "!ls"
      ],
      "metadata": {
        "colab": {
          "base_uri": "https://localhost:8080/"
        },
        "id": "FILLImH-8yuF",
        "outputId": "9d705636-005a-4794-b2de-d26ace653f49"
      },
      "execution_count": null,
      "outputs": [
        {
          "output_type": "stream",
          "name": "stdout",
          "text": [
            "my-first-blockchain  sample_data  simple_blockchain.py\n"
          ]
        }
      ]
    },
    {
      "cell_type": "code",
      "source": [
        "!cp simple_blockchain.py my-first-blockchain/"
      ],
      "metadata": {
        "id": "pwK0I7VM80tH"
      },
      "execution_count": null,
      "outputs": []
    },
    {
      "cell_type": "code",
      "source": [
        "%cd my-first-blockchain"
      ],
      "metadata": {
        "colab": {
          "base_uri": "https://localhost:8080/"
        },
        "id": "-lXSR94u_wUP",
        "outputId": "9e158456-d2e6-441f-e8ff-ee2e92ebac97"
      },
      "execution_count": null,
      "outputs": [
        {
          "output_type": "stream",
          "name": "stdout",
          "text": [
            "/content/my-first-blockchain\n"
          ]
        }
      ]
    },
    {
      "cell_type": "code",
      "source": [
        "!ls"
      ],
      "metadata": {
        "colab": {
          "base_uri": "https://localhost:8080/"
        },
        "id": "x9TPb3wu_1yE",
        "outputId": "5a20c77b-de96-4b63-e322-c832d05d0430"
      },
      "execution_count": null,
      "outputs": [
        {
          "output_type": "stream",
          "name": "stdout",
          "text": [
            "README.md  simple_blockchain.py\n"
          ]
        }
      ]
    },
    {
      "cell_type": "code",
      "source": [
        "!git status"
      ],
      "metadata": {
        "colab": {
          "base_uri": "https://localhost:8080/"
        },
        "id": "unGgvaLO_5oE",
        "outputId": "5d11864a-7a09-4f4b-be0f-108a025ca797"
      },
      "execution_count": null,
      "outputs": [
        {
          "output_type": "stream",
          "name": "stdout",
          "text": [
            "On branch main\n",
            "Your branch is up to date with 'origin/main'.\n",
            "\n",
            "Untracked files:\n",
            "  (use \"git add <file>...\" to include in what will be committed)\n",
            "\t\u001b[31msimple_blockchain.py\u001b[m\n",
            "\n",
            "nothing added to commit but untracked files present (use \"git add\" to track)\n"
          ]
        }
      ]
    },
    {
      "cell_type": "code",
      "source": [
        "!git add simple_blockchain.py\n",
        "!git commit -m \"初めてのブロックチェーンコードをコミット\"\n",
        "!git push origin main"
      ],
      "metadata": {
        "colab": {
          "base_uri": "https://localhost:8080/"
        },
        "id": "bgzbR4fNAAfh",
        "outputId": "8acc899c-7556-44a7-fa4c-d7f80a50f08b"
      },
      "execution_count": null,
      "outputs": [
        {
          "output_type": "stream",
          "name": "stdout",
          "text": [
            "[main e367623] 初めてのブロックチェーンコードをコミット\n",
            " 1 file changed, 29 insertions(+)\n",
            " create mode 100644 simple_blockchain.py\n",
            "fatal: could not read Username for 'https://github.com': No such device or address\n"
          ]
        }
      ]
    },
    {
      "cell_type": "code",
      "source": [
        "!git add simple_blockchain.py"
      ],
      "metadata": {
        "id": "fV1FbIVIAwo8"
      },
      "execution_count": null,
      "outputs": []
    },
    {
      "cell_type": "code",
      "source": [
        "!git commit -m \"コメントを追加しました\""
      ],
      "metadata": {
        "colab": {
          "base_uri": "https://localhost:8080/"
        },
        "id": "0S-m5XxWAzL0",
        "outputId": "f2e3a38e-96f1-4779-a099-57f81f2f87c6"
      },
      "execution_count": null,
      "outputs": [
        {
          "output_type": "stream",
          "name": "stdout",
          "text": [
            "On branch main\n",
            "Your branch is ahead of 'origin/main' by 1 commit.\n",
            "  (use \"git push\" to publish your local commits)\n",
            "\n",
            "nothing to commit, working tree clean\n"
          ]
        }
      ]
    },
    {
      "cell_type": "code",
      "source": [
        "!git push origin main"
      ],
      "metadata": {
        "colab": {
          "base_uri": "https://localhost:8080/"
        },
        "id": "hXSK8UlJA2lU",
        "outputId": "68aed7da-4aaf-4f52-9805-77d516011e51"
      },
      "execution_count": null,
      "outputs": [
        {
          "output_type": "stream",
          "name": "stdout",
          "text": [
            "fatal: could not read Username for 'https://github.com': No such device or address\n"
          ]
        }
      ]
    }
  ]
}
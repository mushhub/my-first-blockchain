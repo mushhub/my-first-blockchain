{
  "nbformat": 4,
  "nbformat_minor": 0,
  "metadata": {
    "colab": {
      "provenance": [],
      "authorship_tag": "ABX9TyNAS7ZkzA/cFEm8fe6y3006",
      "include_colab_link": true
    },
    "kernelspec": {
      "name": "python3",
      "display_name": "Python 3"
    },
    "language_info": {
      "name": "python"
    }
  },
  "cells": [
    {
      "cell_type": "markdown",
      "metadata": {
        "id": "view-in-github",
        "colab_type": "text"
      },
      "source": [
        "<a href=\"https://colab.research.google.com/github/mushhub/my-first-blockchain/blob/main/blockchain_structure_py.ipynb\" target=\"_parent\"><img src=\"https://colab.research.google.com/assets/colab-badge.svg\" alt=\"Open In Colab\"/></a>"
      ]
    },
    {
      "cell_type": "code",
      "execution_count": 1,
      "metadata": {
        "colab": {
          "base_uri": "https://localhost:8080/"
        },
        "id": "zLF-DgU_Bwpo",
        "outputId": "f115f8d9-55c8-4911-f2c8-8d4ca03d39f4"
      },
      "outputs": [
        {
          "output_type": "stream",
          "name": "stdout",
          "text": [
            "最初のブロック\n",
            "2番目のブロック\n"
          ]
        }
      ],
      "source": [
        "import hashlib\n",
        "import json\n",
        "from time import time\n",
        "\n",
        "class Block:\n",
        "    def __init__(self, index, previous_hash, timestamp, data, hash):\n",
        "        self.index = index\n",
        "        self.previous_hash = previous_hash\n",
        "        self.timestamp = timestamp\n",
        "        self.data = data\n",
        "        self.hash = hash\n",
        "\n",
        "def calculate_hash(index, previous_hash, timestamp, data):\n",
        "    value = str(index) + str(previous_hash) + str(timestamp) + str(data)\n",
        "    return hashlib.sha256(value.encode()).hexdigest()\n",
        "\n",
        "def create_genesis_block():\n",
        "    return Block(0, \"0\", time(), \"Genesis Block\", calculate_hash(0, \"0\", time(), \"Genesis Block\"))\n",
        "\n",
        "def create_new_block(previous_block, data):\n",
        "    index = previous_block.index + 1\n",
        "    timestamp = time()\n",
        "    hash = calculate_hash(index, previous_block.hash, timestamp, data)\n",
        "    return Block(index, previous_block.hash, timestamp, data, hash)\n",
        "\n",
        "blockchain = [create_genesis_block()]\n",
        "previous_block = blockchain[0]\n",
        "\n",
        "# ブロックを追加\n",
        "for i in range(1, 5):\n",
        "    block_to_add = create_new_block(previous_block, f\"Block {i} Data\")\n",
        "    blockchain.append(block_to_add)\n",
        "    previous_block = block_to_add\n",
        "\n",
        "# ブロックチェーンを表示\n",
        "for block in blockchain:\n",
        "    print(f\"Index: {block.index}, Hash: {block.hash}\")"
      ]
    }
  ]
}
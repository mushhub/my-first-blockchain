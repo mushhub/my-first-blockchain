{
  "nbformat": 4,
  "nbformat_minor": 0,
  "metadata": {
    "colab": {
      "provenance": [],
      "authorship_tag": "ABX9TyNFK9Llh2BpFRwoLb5twcH2",
      "include_colab_link": true
    },
    "kernelspec": {
      "name": "python3",
      "display_name": "Python 3"
    },
    "language_info": {
      "name": "python"
    }
  },
  "cells": [
    {
      "cell_type": "markdown",
      "metadata": {
        "id": "view-in-github",
        "colab_type": "text"
      },
      "source": [
        "<a href=\"https://colab.research.google.com/github/mushhub/my-first-blockchain/blob/main/my_blockchain_py.ipynb\" target=\"_parent\"><img src=\"https://colab.research.google.com/assets/colab-badge.svg\" alt=\"Open In Colab\"/></a>"
      ]
    },
    {
      "cell_type": "code",
      "execution_count": 1,
      "metadata": {
        "colab": {
          "base_uri": "https://localhost:8080/"
        },
        "id": "zLF-DgU_Bwpo",
        "outputId": "f115f8d9-55c8-4911-f2c8-8d4ca03d39f4"
      },
      "outputs": [
        {
          "output_type": "stream",
          "name": "stdout",
          "text": [
            "最初のブロック\n",
            "2番目のブロック\n"
          ]
        }
      ],
      "source": [
        "# 簡単なブロックチェーンの例\n",
        "class Block:\n",
        "    def __init__(self, data, previous_hash):\n",
        "        self.data = data\n",
        "        self.previous_hash = previous_hash\n",
        "\n",
        "block1 = Block(\"最初のブロック\", \"0\")\n",
        "block2 = Block(\"2番目のブロック\", \"hash_of_block1\")\n",
        "\n",
        "print(block1.data)\n",
        "print(block2.data)"
      ]
    }
  ]
}
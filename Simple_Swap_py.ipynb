{
  "nbformat": 4,
  "nbformat_minor": 0,
  "metadata": {
    "colab": {
      "provenance": [],
      "authorship_tag": "ABX9TyMs8ZyA7d9hr5sQkyeNKs4e",
      "include_colab_link": true
    },
    "kernelspec": {
      "name": "python3",
      "display_name": "Python 3"
    },
    "language_info": {
      "name": "python"
    }
  },
  "cells": [
    {
      "cell_type": "markdown",
      "metadata": {
        "id": "view-in-github",
        "colab_type": "text"
      },
      "source": [
        "<a href=\"https://colab.research.google.com/github/mushhub/my-first-blockchain/blob/main/Simple_Swap_py.ipynb\" target=\"_parent\"><img src=\"https://colab.research.google.com/assets/colab-badge.svg\" alt=\"Open In Colab\"/></a>"
      ]
    },
    {
      "cell_type": "code",
      "execution_count": 4,
      "metadata": {
        "colab": {
          "base_uri": "https://localhost:8080/"
        },
        "id": "zLF-DgU_Bwpo",
        "outputId": "18843cd8-0e28-40fd-e597-e913ce00cb2e"
      },
      "outputs": [
        {
          "output_type": "stream",
          "name": "stdout",
          "text": [
            "TokenAを20スワップしてTokenBを20取得\n",
            "TokenA残高: 80, TokenB残高: 120\n",
            "TokenBを10スワップしてTokenAを10取得\n",
            "TokenA残高: 90, TokenB残高: 110\n",
            "TokenAを1000スワップしようとした結果: 残高不足\n"
          ]
        }
      ],
      "source": [
        "class Token:\n",
        "    def __init__(self, name, balance):\n",
        "        self.name = name\n",
        "        self.balance = balance\n",
        "\n",
        "class SwapPool:\n",
        "    def __init__(self, token_a, token_b):\n",
        "        self.token_a = token_a\n",
        "        self.token_b = token_b\n",
        "\n",
        "    def swap_a_to_b(self, amount_a):\n",
        "        if self.token_a.balance >= amount_a:\n",
        "            amount_b = amount_a  # 簡単のため、1:1のスワップレートを仮定\n",
        "            self.token_a.balance -= amount_a\n",
        "            self.token_b.balance += amount_b\n",
        "            return amount_b\n",
        "        else:\n",
        "            return \"残高不足\"\n",
        "\n",
        "    def swap_b_to_a(self, amount_b):\n",
        "        if self.token_b.balance >= amount_b:\n",
        "            amount_a = amount_b  # 簡単のため、1:1のスワップレートを仮定\n",
        "            self.token_b.balance -= amount_b\n",
        "            self.token_a.balance += amount_a\n",
        "            return amount_a\n",
        "        else:\n",
        "            return \"残高不足\"\n",
        "\n",
        "# トークンの初期化\n",
        "token_a = Token(\"TokenA\", 100)\n",
        "token_b = Token(\"TokenB\", 100)\n",
        "\n",
        "# スワッププールの初期化\n",
        "swap_pool = SwapPool(token_a, token_b)\n",
        "\n",
        "# スワップの実行\n",
        "amount_b = swap_pool.swap_a_to_b(20)\n",
        "print(f\"TokenAを20スワップしてTokenBを{amount_b}取得\")\n",
        "print(f\"TokenA残高: {token_a.balance}, TokenB残高: {token_b.balance}\")\n",
        "\n",
        "amount_a = swap_pool.swap_b_to_a(10)\n",
        "print(f\"TokenBを10スワップしてTokenAを{amount_a}取得\")\n",
        "print(f\"TokenA残高: {token_a.balance}, TokenB残高: {token_b.balance}\")\n",
        "\n",
        "# 残高不足のケース\n",
        "result = swap_pool.swap_a_to_b(1000)\n",
        "print(f\"TokenAを1000スワップしようとした結果: {result}\")"
      ]
    }
  ]
}
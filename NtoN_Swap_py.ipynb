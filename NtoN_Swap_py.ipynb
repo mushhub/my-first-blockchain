{
  "nbformat": 4,
  "nbformat_minor": 0,
  "metadata": {
    "colab": {
      "provenance": [],
      "authorship_tag": "ABX9TyMV7K/1RXy9vUxvJi8yJugf",
      "include_colab_link": true
    },
    "kernelspec": {
      "name": "python3",
      "display_name": "Python 3"
    },
    "language_info": {
      "name": "python"
    }
  },
  "cells": [
    {
      "cell_type": "markdown",
      "metadata": {
        "id": "view-in-github",
        "colab_type": "text"
      },
      "source": [
        "<a href=\"https://colab.research.google.com/github/mushhub/my-first-blockchain/blob/main/NtoN_Swap_py.ipynb\" target=\"_parent\"><img src=\"https://colab.research.google.com/assets/colab-badge.svg\" alt=\"Open In Colab\"/></a>"
      ]
    },
    {
      "cell_type": "code",
      "execution_count": 4,
      "metadata": {
        "colab": {
          "base_uri": "https://localhost:8080/"
        },
        "id": "zLF-DgU_Bwpo",
        "outputId": "18843cd8-0e28-40fd-e597-e913ce00cb2e"
      },
      "outputs": [
        {
          "output_type": "stream",
          "name": "stdout",
          "text": [
            "TokenAを20スワップしてTokenBを20取得\n",
            "TokenA残高: 80, TokenB残高: 120\n",
            "TokenBを10スワップしてTokenAを10取得\n",
            "TokenA残高: 90, TokenB残高: 110\n",
            "TokenAを1000スワップしようとした結果: 残高不足\n"
          ]
        }
      ],
      "source": [
        "class Token:\n",
        "    def __init__(self, name, balance):\n",
        "        self.name = name\n",
        "        self.balance = balance\n",
        "\n",
        "class SwapPool:\n",
        "    def __init__(self, tokens):\n",
        "        self.tokens = tokens\n",
        "\n",
        "    def add_liquidity(self, amounts):\n",
        "        for token_name, amount in amounts.items():\n",
        "            if self.tokens[token_name].balance >= amount:\n",
        "                self.tokens[token_name].balance -= amount\n",
        "            else:\n",
        "                print(f\"{token_name}の残高が不足しています。\")\n",
        "                return\n",
        "\n",
        "        for token_name, amount in amounts.items():\n",
        "            print(f\"{token_name}を{amount}追加しました。\")\n",
        "\n",
        "    def remove_liquidity(self, amounts):\n",
        "        for token_name, amount in amounts.items():\n",
        "            self.tokens[token_name].balance += amount\n",
        "            print(f\"{token_name}を{amount}引き出しました。\")\n",
        "\n",
        "    def swap(self, input_amounts, output_amounts):\n",
        "        # 簡単のため固定レートでスワップ\n",
        "        self.add_liquidity(input_amounts)\n",
        "        self.remove_liquidity(output_amounts)\n",
        "\n",
        "# トークンの初期化\n",
        "token_a = Token(\"TokenA\", 100)\n",
        "token_b = Token(\"TokenB\", 100)\n",
        "token_c = Token(\"TokenC\", 100)\n",
        "token_d = Token(\"TokenD\", 100)\n",
        "\n",
        "# スワッププールの初期化\n",
        "swap_pool = SwapPool({\n",
        "    \"TokenA\": token_a,\n",
        "    \"TokenB\": token_b,\n",
        "    \"TokenC\": token_c,\n",
        "    \"TokenD\": token_d,\n",
        "})\n",
        "\n",
        "# スワップの実行\n",
        "input_amounts = {\"TokenA\": 20, \"TokenB\": 10}\n",
        "output_amounts = {\"TokenC\": 15, \"TokenD\": 15}\n",
        "\n",
        "swap_pool.swap(input_amounts, output_amounts)\n",
        "\n",
        "# トークン残高の表示\n",
        "print(f\"TokenA残高: {token_a.balance}\")\n",
        "print(f\"TokenB残高: {token_b.balance}\")\n",
        "print(f\"TokenC残高: {token_c.balance}\")\n",
        "print(f\"TokenD残高: {token_d.balance}\")"
      ]
    }
  ]
}
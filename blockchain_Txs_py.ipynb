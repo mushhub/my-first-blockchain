{
  "nbformat": 4,
  "nbformat_minor": 0,
  "metadata": {
    "colab": {
      "provenance": [],
      "authorship_tag": "ABX9TyP3AB3MUJF0STWnceaJZBNq",
      "include_colab_link": true
    },
    "kernelspec": {
      "name": "python3",
      "display_name": "Python 3"
    },
    "language_info": {
      "name": "python"
    }
  },
  "cells": [
    {
      "cell_type": "markdown",
      "metadata": {
        "id": "view-in-github",
        "colab_type": "text"
      },
      "source": [
        "<a href=\"https://colab.research.google.com/github/mushhub/my-first-blockchain/blob/main/blockchain_Txs_py.ipynb\" target=\"_parent\"><img src=\"https://colab.research.google.com/assets/colab-badge.svg\" alt=\"Open In Colab\"/></a>"
      ]
    },
    {
      "cell_type": "code",
      "execution_count": 2,
      "metadata": {
        "colab": {
          "base_uri": "https://localhost:8080/",
          "height": 211
        },
        "id": "zLF-DgU_Bwpo",
        "outputId": "309c5895-e77d-412a-c7bf-1f19b27568fc"
      },
      "outputs": [
        {
          "output_type": "error",
          "ename": "NameError",
          "evalue": "name 'create_new_block' is not defined",
          "traceback": [
            "\u001b[0;31m---------------------------------------------------------------------------\u001b[0m",
            "\u001b[0;31mNameError\u001b[0m                                 Traceback (most recent call last)",
            "\u001b[0;32m<ipython-input-2-fecfaa7d0250>\u001b[0m in \u001b[0;36m<cell line: 0>\u001b[0;34m()\u001b[0m\n\u001b[1;32m     12\u001b[0m \u001b[0;34m\u001b[0m\u001b[0m\n\u001b[1;32m     13\u001b[0m \u001b[0;31m# 新しいブロックを作成し、トランザクションを追加\u001b[0m\u001b[0;34m\u001b[0m\u001b[0;34m\u001b[0m\u001b[0m\n\u001b[0;32m---> 14\u001b[0;31m \u001b[0mnew_block\u001b[0m \u001b[0;34m=\u001b[0m \u001b[0mcreate_new_block\u001b[0m\u001b[0;34m(\u001b[0m\u001b[0mprevious_block\u001b[0m\u001b[0;34m,\u001b[0m \u001b[0mjson\u001b[0m\u001b[0;34m.\u001b[0m\u001b[0mdumps\u001b[0m\u001b[0;34m(\u001b[0m\u001b[0;34m[\u001b[0m\u001b[0mt\u001b[0m\u001b[0;34m.\u001b[0m\u001b[0m__dict__\u001b[0m \u001b[0;32mfor\u001b[0m \u001b[0mt\u001b[0m \u001b[0;32min\u001b[0m \u001b[0mtransactions\u001b[0m\u001b[0;34m]\u001b[0m\u001b[0;34m)\u001b[0m\u001b[0;34m)\u001b[0m\u001b[0;34m\u001b[0m\u001b[0;34m\u001b[0m\u001b[0m\n\u001b[0m\u001b[1;32m     15\u001b[0m \u001b[0mblockchain\u001b[0m\u001b[0;34m.\u001b[0m\u001b[0mappend\u001b[0m\u001b[0;34m(\u001b[0m\u001b[0mnew_block\u001b[0m\u001b[0;34m)\u001b[0m\u001b[0;34m\u001b[0m\u001b[0;34m\u001b[0m\u001b[0m\n\u001b[1;32m     16\u001b[0m \u001b[0;34m\u001b[0m\u001b[0m\n",
            "\u001b[0;31mNameError\u001b[0m: name 'create_new_block' is not defined"
          ]
        }
      ],
      "source": [
        "class Transaction:\n",
        "    def __init__(self, sender, recipient, amount):\n",
        "        self.sender = sender\n",
        "        self.recipient = recipient\n",
        "        self.amount = amount\n",
        "\n",
        "transactions = [\n",
        "    Transaction(\"Alice\", \"Bob\", 10),\n",
        "    Transaction(\"Bob\", \"Charlie\", 5),\n",
        "    Transaction(\"Charlie\", \"Alice\", 2),\n",
        "]\n",
        "\n",
        "# 新しいブロックを作成し、トランザクションを追加\n",
        "new_block = create_new_block(previous_block, json.dumps([t.__dict__ for t in transactions]))\n",
        "blockchain.append(new_block)\n",
        "\n",
        "# ブロックチェーンを表示\n",
        "for block in blockchain:\n",
        "    print(f\"Index: {block.index}, Data: {block.data}\")"
      ]
    }
  ]
}
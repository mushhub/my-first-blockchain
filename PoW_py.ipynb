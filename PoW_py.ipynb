{
  "nbformat": 4,
  "nbformat_minor": 0,
  "metadata": {
    "colab": {
      "provenance": [],
      "authorship_tag": "ABX9TyMelbe/BR60TAE3e7HNkXX7",
      "include_colab_link": true
    },
    "kernelspec": {
      "name": "python3",
      "display_name": "Python 3"
    },
    "language_info": {
      "name": "python"
    }
  },
  "cells": [
    {
      "cell_type": "markdown",
      "metadata": {
        "id": "view-in-github",
        "colab_type": "text"
      },
      "source": [
        "<a href=\"https://colab.research.google.com/github/mushhub/my-first-blockchain/blob/main/PoW_py.ipynb\" target=\"_parent\"><img src=\"https://colab.research.google.com/assets/colab-badge.svg\" alt=\"Open In Colab\"/></a>"
      ]
    },
    {
      "cell_type": "code",
      "execution_count": 3,
      "metadata": {
        "colab": {
          "base_uri": "https://localhost:8080/",
          "height": 211
        },
        "id": "zLF-DgU_Bwpo",
        "outputId": "d35ba9e1-3d82-4df8-f5be-a26fab71c65f"
      },
      "outputs": [
        {
          "output_type": "error",
          "ename": "NameError",
          "evalue": "name 'previous_block' is not defined",
          "traceback": [
            "\u001b[0;31m---------------------------------------------------------------------------\u001b[0m",
            "\u001b[0;31mNameError\u001b[0m                                 Traceback (most recent call last)",
            "\u001b[0;32m<ipython-input-3-5cb8c41ffe74>\u001b[0m in \u001b[0;36m<cell line: 0>\u001b[0;34m()\u001b[0m\n\u001b[1;32m     22\u001b[0m \u001b[0;34m\u001b[0m\u001b[0m\n\u001b[1;32m     23\u001b[0m \u001b[0;31m# 新しいブロックを追加（PoWを使用）\u001b[0m\u001b[0;34m\u001b[0m\u001b[0;34m\u001b[0m\u001b[0m\n\u001b[0;32m---> 24\u001b[0;31m \u001b[0mnew_block\u001b[0m \u001b[0;34m=\u001b[0m \u001b[0mcreate_new_block\u001b[0m\u001b[0;34m(\u001b[0m\u001b[0mprevious_block\u001b[0m\u001b[0;34m,\u001b[0m \u001b[0;34m\"New Block with PoW\"\u001b[0m\u001b[0;34m)\u001b[0m\u001b[0;34m\u001b[0m\u001b[0;34m\u001b[0m\u001b[0m\n\u001b[0m\u001b[1;32m     25\u001b[0m \u001b[0mblockchain\u001b[0m\u001b[0;34m.\u001b[0m\u001b[0mappend\u001b[0m\u001b[0;34m(\u001b[0m\u001b[0mnew_block\u001b[0m\u001b[0;34m)\u001b[0m\u001b[0;34m\u001b[0m\u001b[0;34m\u001b[0m\u001b[0m\n\u001b[1;32m     26\u001b[0m \u001b[0;34m\u001b[0m\u001b[0m\n",
            "\u001b[0;31mNameError\u001b[0m: name 'previous_block' is not defined"
          ]
        }
      ],
      "source": [
        "import time\n",
        "\n",
        "def calculate_hash(index, previous_hash, timestamp, data, nonce):\n",
        "    value = str(index) + str(previous_hash) + str(timestamp) + str(data) + str(nonce)\n",
        "    return hashlib.sha256(value.encode()).hexdigest()\n",
        "\n",
        "def proof_of_work(block, difficulty):\n",
        "    nonce = 0\n",
        "    while True:\n",
        "        hash = calculate_hash(block.index, block.previous_hash, block.timestamp, block.data, nonce)\n",
        "        if hash.startswith(\"0\" * difficulty):\n",
        "            return nonce, hash\n",
        "        nonce += 1\n",
        "\n",
        "def create_new_block(previous_block, data, difficulty=4):\n",
        "    index = previous_block.index + 1\n",
        "    timestamp = time()\n",
        "    new_block = Block(index, previous_block.hash, timestamp, data, \"\")\n",
        "    nonce, hash = proof_of_work(new_block, difficulty)\n",
        "    new_block.hash = hash\n",
        "    return new_block\n",
        "\n",
        "# 新しいブロックを追加（PoWを使用）\n",
        "new_block = create_new_block(previous_block, \"New Block with PoW\")\n",
        "blockchain.append(new_block)\n",
        "\n",
        "# ブロックチェーンを表示\n",
        "for block in blockchain:\n",
        "    print(f\"Index: {block.index}, Hash: {block.hash}\")"
      ]
    }
  ]
}